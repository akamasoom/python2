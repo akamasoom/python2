{
 "cells": [
  {
   "cell_type": "code",
   "execution_count": 1,
   "metadata": {},
   "outputs": [],
   "source": [
    "import requests,json\n",
    "import pandas as pd\n",
    "from bs4 import BeautifulSoup"
   ]
  },
  {
   "cell_type": "code",
   "execution_count": 4,
   "metadata": {},
   "outputs": [],
   "source": [
    "with open(\"newflipkart.html\",'r',encoding=\"utf-8\") as f:\n",
    "    data=f.read()\n",
    "soup=BeautifulSoup(data)"
   ]
  },
  {
   "cell_type": "code",
   "execution_count": 26,
   "metadata": {},
   "outputs": [
    {
     "data": {
      "text/plain": [
       "['79900',\n",
       " '79900',\n",
       " '49900',\n",
       " '79900',\n",
       " '89900',\n",
       " '59900',\n",
       " '79900',\n",
       " '89900',\n",
       " '49900',\n",
       " '49900',\n",
       " '79900',\n",
       " '69900',\n",
       " '89900',\n",
       " '89900',\n",
       " '59900',\n",
       " '89900',\n",
       " '89900',\n",
       " '89900',\n",
       " '129900',\n",
       " '99900',\n",
       " '89900',\n",
       " '89900',\n",
       " '99900',\n",
       " '79900']"
      ]
     },
     "execution_count": 26,
     "metadata": {},
     "output_type": "execute_result"
    }
   ],
   "source": [
    "dic={\"name\":[],\"Memory\":[],\"color\":[],\"star\":[],\"reviews\":[],\"oldprice\":[],\"newprice\":[],\"discount\":[]}\n",
    "for i in soup.findAll(\"div\",class_=\"_75nlfW\"):\n",
    "    dic[\"name\"].append(i.find(\"div\",class_=\"KzDlHZ\").text.split(\"(\")[0])\n",
    "    dic[\"color\"].append(i.find(\"div\",class_=\"KzDlHZ\").text.split(\"(\")[1].split(\",\")[0])\n",
    "    dic[\"Memory\"].append(i.find(\"div\",class_=\"KzDlHZ\").text.split(\"(\")[1].split(',')[1][1:-1])\n",
    "    dic[\"star\"].append(i.find(\"div\",class_=\"XQDdHH\").text)\n",
    "    dic[\"reviews\"].append(i.find(\"span\",class_=\"Wphh3N\").findAll(\"span\")[-1].text.split()[0])\n",
    "    dic[\"oldprice\"].append(i.find(\"div\",class_=\"yRaY8j ZYYwLA\").text.replace('₹', '').replace(',', '').strip())\n",
    "    dic[\"newprice\"].append(i.find(\"div\",class_=\"Nx9bqj _4b5DiR\").text.replace('₹', '').replace(',', '').strip())\n",
    "    dic[\"discount\"].append(i.find(\"div\",class_=\"UkUFwK\").findAll(\"span\")[-1].text.split()[0])\n",
    "    \n",
    "    \n",
    "# dic[\"name\"]\n",
    "# dic[\"color\"]\n",
    "# dic[\"Memory\"]\n",
    "# dic[\"star\"]\n",
    "# dic[\"reviews\"]\n",
    "dic[\"newprice\"]\n",
    "dic[\"oldprice\"]"
   ]
  },
  {
   "cell_type": "code",
   "execution_count": 28,
   "metadata": {},
   "outputs": [
    {
     "name": "stdout",
     "output_type": "stream",
     "text": [
      "                     name  Memory            color star reviews oldprice  \\\n",
      "0        Apple iPhone 16   128 GB            Black  4.6     704    79900   \n",
      "1        Apple iPhone 16   128 GB             Pink  4.6     704    79900   \n",
      "2        Apple iPhone 13   128 GB        Starlight  4.6  13,902    49900   \n",
      "3        Apple iPhone 16   128 GB            White  4.6     704    79900   \n",
      "4   Apple iPhone 16 Plus   128 GB            White  4.6     143    89900   \n",
      "5       Apple iPhone 16e   128 GB            White  4.6      51    59900   \n",
      "6        Apple iPhone 16   128 GB             Teal  4.6     704    79900   \n",
      "7   Apple iPhone 16 Plus   128 GB            Black  4.6     143    89900   \n",
      "8        Apple iPhone 13   128 GB         Midnight  4.6  13,902    49900   \n",
      "9        Apple iPhone 13   128 GB             Blue  4.6  13,902    49900   \n",
      "10       Apple iPhone 16   128 GB      Ultramarine  4.6     704    79900   \n",
      "11       Apple iPhone 15   128 GB             Blue  4.6   9,296    69900   \n",
      "12       Apple iPhone 16   256 GB            Black  4.6     704    89900   \n",
      "13       Apple iPhone 16   256 GB      Ultramarine  4.6     704    89900   \n",
      "14       Apple iPhone 14   128 GB        Starlight  4.6  11,672    59900   \n",
      "15       Apple iPhone 16   256 GB             Pink  4.6     704    89900   \n",
      "16       Apple iPhone 16   256 GB            White  4.6     704    89900   \n",
      "17  Apple iPhone 15 Plus   256 GB            Green  4.6   2,541    89900   \n",
      "18   Apple iPhone 16 Pro   256 GB  Desert Titanium  4.7     104   129900   \n",
      "19  Apple iPhone 16 Plus   256 GB      Ultramarine  4.6     143    99900   \n",
      "20       Apple iPhone 16   256 GB             Teal  4.6     704    89900   \n",
      "21  Apple iPhone 16 Plus   128 GB             Teal  4.6     143    89900   \n",
      "22  Apple iPhone 16 Plus   256 GB             Pink  4.6     143    99900   \n",
      "23       Apple iPhone 15   256 GB             Pink  4.6   9,296    79900   \n",
      "\n",
      "   newprice discount  \n",
      "0     74900       6%  \n",
      "1     74900       6%  \n",
      "2     44999       9%  \n",
      "3     74900       6%  \n",
      "4     84900       5%  \n",
      "5     54900       8%  \n",
      "6     74900       6%  \n",
      "7     84900       5%  \n",
      "8     44999       9%  \n",
      "9     44999       9%  \n",
      "10    74900       6%  \n",
      "11    64400       7%  \n",
      "12    84900       5%  \n",
      "13    84900       5%  \n",
      "14    54999       8%  \n",
      "15    84900       5%  \n",
      "16    84900       5%  \n",
      "17    84900       5%  \n",
      "18   122900       5%  \n",
      "19    94900       5%  \n",
      "20    84900       5%  \n",
      "21    84900       5%  \n",
      "22    94900       5%  \n",
      "23    74400       6%  \n"
     ]
    }
   ],
   "source": [
    "df = pd.DataFrame(dic)\n",
    "df.to_csv(\"ex1.csv\",index=False)\n",
    "print(df)"
   ]
  },
  {
   "cell_type": "code",
   "execution_count": null,
   "metadata": {},
   "outputs": [],
   "source": []
  }
 ],
 "metadata": {
  "kernelspec": {
   "display_name": "Python 3",
   "language": "python",
   "name": "python3"
  },
  "language_info": {
   "codemirror_mode": {
    "name": "ipython",
    "version": 3
   },
   "file_extension": ".py",
   "mimetype": "text/x-python",
   "name": "python",
   "nbconvert_exporter": "python",
   "pygments_lexer": "ipython3",
   "version": "3.8.5"
  }
 },
 "nbformat": 4,
 "nbformat_minor": 4
}
