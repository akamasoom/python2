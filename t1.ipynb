{
 "cells": [
  {
   "cell_type": "code",
   "execution_count": 16,
   "metadata": {},
   "outputs": [
    {
     "data": {
      "text/plain": [
       "'192.168.107.8'"
      ]
     },
     "execution_count": 16,
     "metadata": {},
     "output_type": "execute_result"
    }
   ],
   "source": [
    "socket.gethostbyname(socket.gethostname())"
   ]
  },
  {
   "cell_type": "code",
   "execution_count": 14,
   "metadata": {},
   "outputs": [
    {
     "name": "stdout",
     "output_type": "stream",
     "text": [
      "Overwriting server.py\n"
     ]
    }
   ],
   "source": [
    "%%writefile server.py\n",
    "import socket\n",
    "host='localhost'\n",
    "port=65432\n",
    "with socket.socket() as s:\n",
    "    s.bind((host,port))\n",
    "    s.listen()\n",
    "    conn,addr=s.accept()\n",
    "    with conn:\n",
    "        print(f\"connection by {addr}\")\n",
    "        with open(\"new.ipynb\",\"wb\") as f:\n",
    "            while True:\n",
    "                data=conn.recv(4096)\n",
    "                if not data:\n",
    "                    break\n",
    "                f.write(data)\n",
    "        print(\"recieved file\")"
   ]
  },
  {
   "cell_type": "code",
   "execution_count": 13,
   "metadata": {},
   "outputs": [
    {
     "name": "stdout",
     "output_type": "stream",
     "text": [
      "Overwriting client.py\n"
     ]
    }
   ],
   "source": [
    "%%writefile client.py\n",
    "import socket\n",
    "host=\"192.168.107.9\"\n",
    "port=65432\n",
    "with socket.socket() as s:\n",
    "    s.connect((host,port))\n",
    "    with open(\"hello.ipynb\",\"rb\") as f:\n",
    "        s.sendfile(f)\n",
    "    print(\"Sent\")"
   ]
  },
  {
   "cell_type": "code",
   "execution_count": 3,
   "metadata": {},
   "outputs": [
    {
     "name": "stdout",
     "output_type": "stream",
     "text": [
      "Overwriting UDPserver.py\n"
     ]
    }
   ],
   "source": [
    "%%writefile UDPserver.py\n",
    "from socket import *\n",
    "host=\"localhost\"\n",
    "port=7000\n",
    "add=(host,port)\n",
    "server=socket(type=SOCK_DGRAM)\n",
    "server.bind(add)\n",
    "while True:\n",
    "    print(\"waiting\")\n",
    "    data,addr=server.recvfrom(1024)\n",
    "    print(data.decode(),addr)\n",
    "    msg=input(\"respond\")\n",
    "    server.sendto(msg.encode(),addr)\n",
    "server.close()"
   ]
  },
  {
   "cell_type": "code",
   "execution_count": 5,
   "metadata": {},
   "outputs": [
    {
     "name": "stdout",
     "output_type": "stream",
     "text": [
      "Overwriting UDPclient.py\n"
     ]
    }
   ],
   "source": [
    "%%writefile UDPclient.py\n",
    "from socket import *\n",
    "host=\"localhost\"\n",
    "port=7000\n",
    "addr=(host,port)\n",
    "client=socket(type=SOCK_DGRAM)\n",
    "while True:\n",
    "    data=input('->')\n",
    "    if not data:\n",
    "        break\n",
    "    client.sendto(data.encode(),addr)\n",
    "    print('receive')\n",
    "    data,addr=client.recvfrom(1028)\n",
    "    if not data:\n",
    "        break\n",
    "    print(data.decode())\n",
    "client.close()"
   ]
  },
  {
   "cell_type": "code",
   "execution_count": null,
   "metadata": {},
   "outputs": [
    {
     "name": "stdout",
     "output_type": "stream",
     "text": [
      "(b'GET / HTTP/1.1\\r\\nHost: localhost:9000\\r\\nConnection: keep-alive\\r\\nsec-ch-ua: \"Chromium\";v=\"136\", \"Microsoft Edge\";v=\"136\", \"Not.A/Brand\";v=\"99\"\\r\\nsec-ch-ua-mobile: ?0\\r\\nsec-ch-ua-platform: \"Windows\"\\r\\nUpgrade-Insecure-Requests: 1\\r\\nUser-Agent: Mozilla/5.0 (Windows NT 10.0; Win64; x64) AppleWebKit/537.36 (KHTML, like Gecko) Chrome/136.0.0.0 Safari/537.36 Edg/136.0.0.0\\r\\nAccept: text/html,application/xhtml+xml,application/xml;q=0.9,image/avif,image/webp,image/apng,*/*;q=0.8,application/signed-exchange;v=b3;q=0.7\\r\\nSec-Fetch-Site: none\\r\\nSec-Fetch-Mode: navigate\\r\\nSec-Fetch-User: ?1\\r\\nSec-Fetch-Dest: document\\r\\nAccept-Encoding: gzip, deflate, br, zstd\\r\\nAccept-Language: en-US,en;q=0.9\\r\\nCookie: username-localhost-8889=\"2|1:0|10:1746680765|23:username-localhost-8889|44:MWYxY2M5MmU3ZjllNDlkNjg2ZmRlZTM5MzdiYWMwOWI=|6d07034e22a5c26f7c9f263af709a3471af3b85cda81cc447a64fdef187ae597\"; _xsrf=2|b013f105|bce820250722076f7b7cd5d9f78bee93|1748413175; username-localhost-8888=\"2|1:0|10:1748492116|23:username-localhost-8888|44:NTc1ODI4OTYwOGFlNGI1YjhlMTNhMjc0NDJjMDg5ZDc=|c8043fd036cd85ae6fcf4df545ef4dd814f4df37dae3f226ad8a5f68bc3185eb\"\\r\\n\\r\\n', (0, b'\\x00\\x00\\x00\\x00\\x00\\x00\\x00\\x00\\x00\\x00\\x00\\x00\\x00\\x00'))\n",
      "(b'GET /favicon.ico HTTP/1.1\\r\\nHost: localhost:9000\\r\\nConnection: keep-alive\\r\\nsec-ch-ua-platform: \"Windows\"\\r\\nUser-Agent: Mozilla/5.0 (Windows NT 10.0; Win64; x64) AppleWebKit/537.36 (KHTML, like Gecko) Chrome/136.0.0.0 Safari/537.36 Edg/136.0.0.0\\r\\nsec-ch-ua: \"Chromium\";v=\"136\", \"Microsoft Edge\";v=\"136\", \"Not.A/Brand\";v=\"99\"\\r\\nsec-ch-ua-mobile: ?0\\r\\nAccept: image/avif,image/webp,image/apng,image/svg+xml,image/*,*/*;q=0.8\\r\\nSec-Fetch-Site: same-origin\\r\\nSec-Fetch-Mode: no-cors\\r\\nSec-Fetch-Dest: image\\r\\nReferer: http://localhost:9000/\\r\\nAccept-Encoding: gzip, deflate, br, zstd\\r\\nAccept-Language: en-US,en;q=0.9\\r\\nCookie: username-localhost-8889=\"2|1:0|10:1746680765|23:username-localhost-8889|44:MWYxY2M5MmU3ZjllNDlkNjg2ZmRlZTM5MzdiYWMwOWI=|6d07034e22a5c26f7c9f263af709a3471af3b85cda81cc447a64fdef187ae597\"; _xsrf=2|b013f105|bce820250722076f7b7cd5d9f78bee93|1748413175; username-localhost-8888=\"2|1:0|10:1748492116|23:username-localhost-8888|44:NTc1ODI4OTYwOGFlNGI1YjhlMTNhMjc0NDJjMDg5ZDc=|c8043fd036cd85ae6fcf4df545ef4dd814f4df37dae3f226ad8a5f68bc3185eb\"\\r\\n\\r\\n', (0, b'\\x00\\x00\\x00\\x00\\x00\\x00\\x00\\x00\\x00\\x00\\x00\\x00\\x00\\x00'))\n",
      "(b'', (0, b'\\x00\\x00\\x00\\x00\\x00\\x00\\x00\\x00\\x00\\x00\\x00\\x00\\x00\\x00'))\n"
     ]
    }
   ],
   "source": [
    "import socket\n",
    "server=socket.socket()\n",
    "server.bind((\"localhost\",9000))\n",
    "server.listen()\n",
    "while(1):\n",
    "    (client,addr)=server.accept()\n",
    "    data=client.recvfrom(5000)\n",
    "    print(data)\n",
    "    data=\"HTTP/1.1 200 OK\\r\\n\"\n",
    "    data+=\"Content-Type:text/html;charset=UTF-8\\r\\n\"\n",
    "    data+=\"\\r\\n\"\n",
    "    data+=\"<html><body>Hello</body></html>\\r\\n\\r\\n\"\n",
    "    client.send(data.encode())\n",
    "server.close()"
   ]
  },
  {
   "cell_type": "code",
   "execution_count": null,
   "metadata": {},
   "outputs": [],
   "source": []
  }
 ],
 "metadata": {
  "kernelspec": {
   "display_name": "Python 3",
   "language": "python",
   "name": "python3"
  },
  "language_info": {
   "codemirror_mode": {
    "name": "ipython",
    "version": 3
   },
   "file_extension": ".py",
   "mimetype": "text/x-python",
   "name": "python",
   "nbconvert_exporter": "python",
   "pygments_lexer": "ipython3",
   "version": "3.8.5"
  }
 },
 "nbformat": 4,
 "nbformat_minor": 4
}
